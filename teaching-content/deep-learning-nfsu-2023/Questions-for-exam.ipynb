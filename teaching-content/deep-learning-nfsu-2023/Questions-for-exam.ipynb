{
 "cells": [
  {
   "cell_type": "markdown",
   "id": "933604fb",
   "metadata": {},
   "source": [
    "### Basic Numpy"
   ]
  },
  {
   "cell_type": "markdown",
   "id": "dc1bc75a",
   "metadata": {},
   "source": [
    "**Question 1:** Write code to find out how much time it takes to execute the function `fun()` below?"
   ]
  },
  {
   "cell_type": "code",
   "execution_count": null,
   "id": "75e6bec5",
   "metadata": {},
   "outputs": [],
   "source": [
    "def fun(): \n",
    "    L = []\n",
    "    for n in range(10000000): \n",
    "        L.append(n**2)\n",
    "    return L"
   ]
  },
  {
   "cell_type": "markdown",
   "id": "dffb4d1a",
   "metadata": {},
   "source": [
    "**Question 2:** Write an optimised version of the function `fun()` which returns the same result but takes lesser time compared to the above function"
   ]
  },
  {
   "cell_type": "markdown",
   "id": "e4b360a4",
   "metadata": {},
   "source": [
    "**Question 3:** Write a function that outputs the following array? `array([0.  , 0.25, 0.5 , 0.75, 1.  ])`"
   ]
  },
  {
   "cell_type": "markdown",
   "id": "875f0e90",
   "metadata": {},
   "source": [
    "**Question 4:** Write code to plot random distribution with mean 0 and standard deviation of 1. You can assume the the distribution has 10000 samples. "
   ]
  },
  {
   "cell_type": "markdown",
   "id": "9a0f65a4",
   "metadata": {},
   "source": [
    "### Linear Regression"
   ]
  },
  {
   "cell_type": "markdown",
   "id": "01b7b58a",
   "metadata": {},
   "source": [
    "**Question 5** Write a function that performs one hot encoding. Assume that the input the function is `[0, 1, 2, 2]` and the number of classes is 3"
   ]
  },
  {
   "cell_type": "markdown",
   "id": "a050160d",
   "metadata": {},
   "source": [
    "**Question 6:** Create a random 1D data where the samples lie between 10 and 100 using `numpy.random`. Next, perform **a)** Data normalisation, **b)** Data standardisation (mean centering). "
   ]
  },
  {
   "cell_type": "markdown",
   "id": "bb34f9dd",
   "metadata": {},
   "source": [
    "**Question 7:** Split the normalised and standardised data in Question 6 into train (70%), validation (20%) and test set (10%). Train a linear regression model on this data. Report the mean absolute error on the test set."
   ]
  },
  {
   "cell_type": "markdown",
   "id": "b55dd0a3",
   "metadata": {},
   "source": [
    "### Logistic Regression"
   ]
  },
  {
   "cell_type": "markdown",
   "id": "1b7783aa",
   "metadata": {},
   "source": [
    "**Question 8:** Recall softmax function in logistic regression. Write a function to implement softmax function from scratch. To test your function, create a 2D matrix, similar to </br>\n",
    "`\n",
    "[[-0.3, -0.5, -0.5],\n",
    "[-0.4, -0.1, -0.5],\n",
    "[-0.3, -0.94, -0.5],\n",
    "[-0.99, -0.88, -0.5]]\n",
    "`\n",
    "Pass this input through the custom softmax function. Verify that your softmax function is working as expected"
   ]
  },
  {
   "cell_type": "markdown",
   "id": "ea418353",
   "metadata": {},
   "source": [
    "### Correlation, Pandas"
   ]
  },
  {
   "cell_type": "markdown",
   "id": "aad8fa91",
   "metadata": {},
   "source": [
    "**Question 9:** Write your own code to find covariance (cov) between two vectors, `x1` and `x2`. You can assume anything about both this vectors, but state them clearly "
   ]
  },
  {
   "cell_type": "markdown",
   "id": "ccff8df5",
   "metadata": {},
   "source": [
    "**Question 10:** Using numpy generate a matrix of size 20X5 containing random numbers drawn uniformly from the range of 1 to 2. Using Pandas create a dataframe out of this matrix. Name the columns of the dataframe as “a”, “b”, “c”, “d”, “e”. Find the column with the highest standard deviation. Find the row with the lowest mean."
   ]
  },
  {
   "cell_type": "code",
   "execution_count": null,
   "id": "d01dd6c2",
   "metadata": {},
   "outputs": [],
   "source": []
  }
 ],
 "metadata": {
  "kernelspec": {
   "display_name": "\"Python/Mu (mu_venv-38-20230327-152744)\"",
   "language": "python",
   "name": "mu_venv-38-20230327-152744"
  },
  "language_info": {
   "codemirror_mode": {
    "name": "ipython",
    "version": 3
   },
   "file_extension": ".py",
   "mimetype": "text/x-python",
   "name": "python",
   "nbconvert_exporter": "python",
   "pygments_lexer": "ipython3",
   "version": "3.8.12"
  }
 },
 "nbformat": 4,
 "nbformat_minor": 5
}
